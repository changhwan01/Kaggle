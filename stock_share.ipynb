{
 "cells": [
  {
   "cell_type": "markdown",
   "id": "fa834185",
   "metadata": {},
   "source": [
    "# Team DreamTree (22.4.12 ~ ing).\n",
    "\n",
    "### JPX Tokyo Stock Exchange Prediction\n",
    "- https://www.kaggle.com/competitions/jpx-tokyo-stock-exchange-prediction\n",
    "- April 4, 2022 - Start Date\n",
    "- June 28, 2022 - Entry deadline. You must accept the competition rules before this date in order to compete.\n",
    "- June 28, 2022 - Team Merger deadline. This is the last day participants may join or merge teams.\n",
    "- July 5, 2022 - Final submission deadline.\n",
    "\n"
   ]
  },
  {
   "cell_type": "markdown",
   "id": "636637b3",
   "metadata": {},
   "source": [
    "## References (시계열 데이터 분석 레퍼런스)\n",
    "\n",
    "### Technical Analysis Library in Python\n",
    "- Technical Analysis library useful to do feature engineering from financial time series datasets \n",
    "- https://github.com/bukosabino/ta\n",
    "\n",
    "### Tidy Viewer (CSV viewer in linux system)\n",
    "- https://github.com/alexhallam/tv\n",
    "\n",
    "~~~\n",
    "wget https://github.com/alexhallam/tv/releases/download/1.4.3/tidy-viewer_1.4.3_amd64.deb\n",
    "sudo dpkg -i tidy-viewer_1.4.3_amd64.deb\n",
    "echo \"alias tv='tidy-viewer'\" >> ~/.bashrc\n",
    "source ~/.bashrc\n",
    "~~~\n",
    "\n",
    "~~~ \n",
    "tv file.csv \n",
    "~~~\n",
    "\n",
    "### Time Series Prediction Tutorial with EDA (Kaggle Notebook)\n",
    "- https://www.kaggle.com/code/kanncaa1/time-series-prediction-tutorial-with-eda/notebook\n",
    "\n",
    "### Stock Prices Predictions-EDA,LSTM(DeepExploration)\n",
    "- https://www.kaggle.com/code/saurabhshahane/stock-prices-predictions-eda-lstm-deepexploration/notebook"
   ]
  },
  {
   "cell_type": "markdown",
   "id": "20655d15",
   "metadata": {},
   "source": [
    "# EDA\n",
    "\n",
    "### Data Cleaning\n",
    "- trn.dropna(subset=['Country'], inplace=True)\n",
    "~~~\n",
    "drop_list = ['Mission ID','Unit ID']\n",
    "aerial.drop(columns=drop_list, inplace=True)\n",
    "~~~"
   ]
  },
  {
   "cell_type": "markdown",
   "id": "62cde7dc",
   "metadata": {
    "lines_to_next_cell": 2
   },
   "source": [
    "!pip uninstall -y plotly\n",
    "!conda uninstall -y plotly\n",
    "!pip uninstall -y chart-studio\n",
    "!conda uninstall -y chart-studio\n",
    "!pip install plotly==3.10.0\n",
    "!source env/bin/activate\n",
    "!pip install --upgrade requests\n",
    "cd /home/smob/anaconda3/envs/tf2/bin/pytho3.8/site-packages \n",
    "pip uninstall urllib3\n",
    "!pip install charset-normalizer\n",
    "!pip install jupytext --upgrade"
   ]
  },
  {
   "cell_type": "code",
   "execution_count": null,
   "id": "4030e1e8",
   "metadata": {},
   "outputs": [],
   "source": [
    "import charset_normalizer"
   ]
  },
  {
   "cell_type": "code",
   "execution_count": null,
   "id": "fa65658e",
   "metadata": {},
   "outputs": [],
   "source": [
    "import seaborn as sns # visualization library\n",
    "import matplotlib.pyplot as plt # visualization library\n",
    "import pandas as pd\n",
    "import numpy as np\n",
    "import urllib3"
   ]
  },
  {
   "cell_type": "code",
   "execution_count": null,
   "id": "333f9fe7",
   "metadata": {},
   "outputs": [],
   "source": [
    "# https://stackoverflow.com/questions/57240949/importerror-the-plotly-future-module-must-be-imported-before-the-plotly-modul\n",
    "# ImportError: The _plotly_future_ module must be imported before the plotly module\n",
    "from _plotly_future_ import v4_subplots\n",
    "\n",
    "import plotly.plotly as py # visualization library\n",
    "import plotly.graph_objs as go # plotly graphical object\n",
    "#import plotly.graph_objects as go\n",
    "from plotly.graph_objs import Line\n",
    "from plotly.subplots import make_subplots\n",
    "from plotly.offline import init_notebook_mode, iplot # plotly offline mode\n",
    "\n",
    "\n",
    "init_notebook_mode(connected=True) "
   ]
  },
  {
   "cell_type": "code",
   "execution_count": null,
   "id": "bebd6372",
   "metadata": {},
   "outputs": [],
   "source": [
    "ls"
   ]
  },
  {
   "cell_type": "markdown",
   "id": "619c4190",
   "metadata": {},
   "source": [
    "### (Sample) Stock Prices Predictions-EDA,LSTM(DeepExploration)"
   ]
  },
  {
   "cell_type": "code",
   "execution_count": null,
   "id": "916911ff",
   "metadata": {},
   "outputs": [],
   "source": [
    "df = pd.read_pickle('./SIEMENS-15minute-Hist')\n",
    "df = pd.DataFrame(df)\n",
    "df['date'] = df['date'].apply(pd.to_datetime)\n",
    "df.set_index('date',inplace=True)"
   ]
  },
  {
   "cell_type": "code",
   "execution_count": null,
   "id": "0de537fe",
   "metadata": {},
   "outputs": [],
   "source": [
    "fig = go.Figure(data=[go.Table(\n",
    "    header=dict(values=list(['date','open','high','low','close','volume']),\n",
    "                fill_color='paleturquoise',\n",
    "                align='left'),\n",
    "    cells=dict(values=[df.index,df.open, df.high, df.low, df.close,df.volume],\n",
    "               fill_color='lavender',\n",
    "               align='left'))\n",
    "])"
   ]
  },
  {
   "cell_type": "code",
   "execution_count": null,
   "id": "a9bb269d",
   "metadata": {},
   "outputs": [],
   "source": [
    "#fig.show()"
   ]
  },
  {
   "cell_type": "code",
   "execution_count": null,
   "id": "6b879210",
   "metadata": {},
   "outputs": [],
   "source": [
    "fig_ex = make_subplots(rows=4, cols=1,subplot_titles=('Open','High','Low','Close'))\n",
    "\n",
    "fig_ex.add_trace(\n",
    "    Line(x=df.index, y=df.open),\n",
    "    row=1, col=1\n",
    ")\n",
    "\n",
    "fig_ex.add_trace(\n",
    "    Line(x=df.index, y=df.high),\n",
    "    row=2, col=1\n",
    ")\n",
    "\n",
    "fig_ex.add_trace(\n",
    "    Line(x=df.index, y=df.low),\n",
    "    row=3, col=1\n",
    ")\n",
    "\n",
    "fig_ex.add_trace(\n",
    "    go.Line(x=df.index, y=df.close),\n",
    "    row=4, col=1\n",
    ")\n",
    "\n",
    "fig_ex.layout.update(height=1400, width=1000, title_text=\"OHLC Line Plots\")\n",
    "\n",
    "#fig_ex.show()"
   ]
  },
  {
   "cell_type": "code",
   "execution_count": null,
   "id": "77a345c7",
   "metadata": {},
   "outputs": [],
   "source": [
    "trn_ex = pd.read_csv('./example_test_files/stock_prices.csv')\n",
    "#opt_ex = pd.read_csv('./example_test_files/options.csv')\n",
    "\n",
    "trn = pd.read_csv('./train_files/stock_prices.csv')\n",
    "#opt = pd.read_csv('./train_files/options.csv')"
   ]
  },
  {
   "cell_type": "code",
   "execution_count": null,
   "id": "fed80912",
   "metadata": {},
   "outputs": [],
   "source": [
    "trn_ex.head()"
   ]
  },
  {
   "cell_type": "code",
   "execution_count": null,
   "id": "ccfd5724",
   "metadata": {},
   "outputs": [],
   "source": [
    "trn.head()"
   ]
  },
  {
   "cell_type": "code",
   "execution_count": null,
   "id": "ea26ba9d",
   "metadata": {},
   "outputs": [],
   "source": [
    "trn.shape, 1202*2000"
   ]
  },
  {
   "cell_type": "code",
   "execution_count": null,
   "id": "a08bea22",
   "metadata": {},
   "outputs": [],
   "source": [
    "# unique 한 날짜, Securities Code 갯수 \n",
    "date_list,code_list = trn['Date'].unique(),trn['SecuritiesCode'].unique()\n",
    "print(len(date_list),len(code_list))\n",
    "\n",
    "date_list,code_list = sorted(date_list), sorted(code_list)"
   ]
  },
  {
   "cell_type": "code",
   "execution_count": null,
   "id": "cc6e3453",
   "metadata": {},
   "outputs": [],
   "source": [
    "trn.info()"
   ]
  },
  {
   "cell_type": "code",
   "execution_count": null,
   "id": "577fa7eb",
   "metadata": {},
   "outputs": [],
   "source": [
    "# Date to datetime, and set as index\n",
    "trn['Date'] = trn['Date'].apply(pd.to_datetime)\n",
    "trn.set_index('Date',inplace=True)"
   ]
  },
  {
   "cell_type": "code",
   "execution_count": null,
   "id": "0f519924",
   "metadata": {},
   "outputs": [],
   "source": [
    "trn.head()"
   ]
  },
  {
   "cell_type": "code",
   "execution_count": null,
   "id": "458b9ee6",
   "metadata": {},
   "outputs": [],
   "source": [
    "type(trn.index[0])\n",
    "day_week = ['월','화','수','목','금','토','일']\n",
    "day_week[trn.index[0].weekday()]"
   ]
  },
  {
   "cell_type": "code",
   "execution_count": null,
   "id": "39bd318f",
   "metadata": {},
   "outputs": [],
   "source": [
    "fig = go.Figure(data=[go.Table(\n",
    "    header=dict(values=list(['Date','SecuritiesCode','Open','High','Low','Close','Volume']),\n",
    "                fill_color='paleturquoise',\n",
    "                align='left'),\n",
    "    cells=dict(values=[trn.index,trn.SecuritiesCode, trn.Open, trn.High, trn.Low, trn.Close,trn.Volume],\n",
    "               fill_color='lavender',\n",
    "               align='left'))\n",
    "])"
   ]
  },
  {
   "cell_type": "code",
   "execution_count": null,
   "id": "00986d6d",
   "metadata": {},
   "outputs": [],
   "source": [
    "#fig.show()"
   ]
  },
  {
   "cell_type": "code",
   "execution_count": null,
   "id": "c5a48d6c",
   "metadata": {},
   "outputs": [],
   "source": [
    "trn_1301 = trn[trn['SecuritiesCode'] == 1301]\n",
    "trn_1332 = trn[trn['SecuritiesCode'] == 1332]\n",
    "trn_1333 = trn[trn['SecuritiesCode'] == 1333]"
   ]
  },
  {
   "cell_type": "code",
   "execution_count": null,
   "id": "50a367d8",
   "metadata": {},
   "outputs": [],
   "source": [
    "fig = make_subplots(rows=3, cols=1,subplot_titles=('1301','1332','1333'))\n",
    "\n",
    "fig.add_trace(\n",
    "    Line(x=trn_1301.index, y=trn_1301.Close),\n",
    "    row=1, col=1\n",
    ")\n",
    "\n",
    "fig.add_trace(\n",
    "    Line(x=trn_1332.index, y=trn_1332.Close),\n",
    "    row=2, col=1\n",
    ")\n",
    "\n",
    "fig.add_trace(\n",
    "    Line(x=trn_1333.index, y=trn_1333.Close),\n",
    "    row=3, col=1\n",
    ")\n",
    "\n",
    "\n",
    "#fig.update_layout(height=1400, width=1000, title_text=\" Line Plots\")\n",
    "fig.layout.update(height=1400, width=1000, title_text=\" Line Plots\")\n",
    "\n",
    "fig.show()"
   ]
  },
  {
   "cell_type": "code",
   "execution_count": null,
   "id": "8c639f56",
   "metadata": {},
   "outputs": [],
   "source": [
    "for d in trn_1301.index:\n",
    "    print(day_week[d.weekday()],d)\n",
    "    if (day_week[d.weekday()]=='금'):\n",
    "        print('-'*7)"
   ]
  },
  {
   "cell_type": "code",
   "execution_count": null,
   "id": "375e783f",
   "metadata": {},
   "outputs": [],
   "source": [
    "# 모든 변수 미리보기\n",
    "for col in trn.columns:\n",
    "    print('{}\\n'.format(trn[col].head()))"
   ]
  },
  {
   "cell_type": "markdown",
   "id": "369d54b5",
   "metadata": {},
   "source": [
    "## Candle Stick "
   ]
  },
  {
   "cell_type": "code",
   "execution_count": null,
   "id": "0b238ece",
   "metadata": {},
   "outputs": [],
   "source": [
    "from datetime import datetime\n",
    "data_ = trn_1301\n",
    "fig = go.Figure(data=[go.Candlestick(x=data_.index,\n",
    "                open=data_['Open'],\n",
    "                high=data_['High'],\n",
    "                low=data_['Low'],\n",
    "                close=data_['Close'])])\n",
    "\n",
    "fig.show()"
   ]
  },
  {
   "cell_type": "markdown",
   "id": "6d573e9c",
   "metadata": {},
   "source": [
    "# Long Short Term Memory Networks(LSTM)"
   ]
  },
  {
   "cell_type": "markdown",
   "id": "4375abcf",
   "metadata": {},
   "source": [
    "## create Train / test data"
   ]
  },
  {
   "cell_type": "code",
   "execution_count": null,
   "id": "bd13dbb4",
   "metadata": {},
   "outputs": [],
   "source": [
    "from keras.models import Sequential\n",
    "from keras.layers import LSTM,Dropout,Dense\n",
    "\n",
    "\n",
    "from sklearn.preprocessing import MinMaxScaler"
   ]
  },
  {
   "cell_type": "code",
   "execution_count": null,
   "id": "78e1ff27",
   "metadata": {
    "lines_to_end_of_cell_marker": 2
   },
   "outputs": [],
   "source": [
    "\n",
    "new_df = pd.DataFrame()\n",
    "new_df = df['close']\n",
    "new_df.index = df.index\n",
    "\n",
    "scaler=MinMaxScaler(feature_range=(0,1))\n",
    "final_dataset=new_df.values\n",
    "\n",
    "train_data=final_dataset[0:20000,]\n",
    "valid_data=final_dataset[20000:,]\n",
    "\n",
    "train_df = pd.DataFrame()\n",
    "valid_df = pd.DataFrame()\n",
    "train_df['Close'] = train_data\n",
    "train_df.index = new_df[0:20000].index\n",
    "valid_df['Close'] = valid_data\n",
    "valid_df.index = new_df[20000:].index\n",
    "\n",
    "scaler=MinMaxScaler(feature_range=(0,1))\n",
    "scaled_data=scaler.fit_transform(final_dataset.reshape(-1,1))\n",
    "\n",
    "x_train_data,y_train_data=[],[]\n",
    "\n",
    "for i in range(60,len(train_data)):\n",
    "    x_train_data.append(scaled_data[i-60:i,0])\n",
    "    y_train_data.append(scaled_data[i,0])\n",
    "    \n",
    "x_train_data,y_train_data=np.array(x_train_data),np.array(y_train_data)\n",
    "\n",
    "x_train_data=np.reshape(x_train_data,(x_train_data.shape[0],x_train_data.shape[1],1))"
   ]
  },
  {
   "cell_type": "markdown",
   "id": "20b50740",
   "metadata": {},
   "source": [
    "# 수치형 변수에 대한 데이터 특성 \n",
    "num_cols = [col for col in trn.columns[:] if trn[col].dtype in ['int64', 'float64']]\n",
    "trn[num_cols].describe()"
   ]
  },
  {
   "cell_type": "code",
   "execution_count": null,
   "id": "7add1d6c",
   "metadata": {
    "lines_to_next_cell": 2
   },
   "outputs": [],
   "source": [
    "### Visualization\n",
    "~~~\n",
    "aerial['Country'].value_counts()\n",
    "# country\n",
    "print(aerial['Country'].value_counts())\n",
    "plt.figure(figsize=(22,10))\n",
    "sns.countplot(aerial['Country'])\n",
    "plt.show()\n",
    "~~~"
   ]
  },
  {
   "cell_type": "code",
   "execution_count": null,
   "id": "ef20cf3b",
   "metadata": {},
   "outputs": [],
   "source": [
    "plt.figure(figsize=(22,10))\n",
    "plt.plot(weather_bin.Date,weather_bin.MeanTemp)\n",
    "plt.title(\"Mean Temperature of Bindukuri Area\")\n",
    "plt.xlabel(\"Date\")\n",
    "plt.ylabel(\"Mean Temperature\")\n",
    "plt.show()\n",
    "\n",
    "# Mean temperature of Bindikuri area\n",
    "plt.figure(figsize=(22,10))\n",
    "plt.plot(weather_bin.Date,weather_bin.MeanTemp)\n",
    "plt.title(\"Mean Temperature of Bindukuri Area\")\n",
    "plt.xlabel(\"Date\")\n",
    "plt.ylabel(\"Mean Temperature\")\n",
    "plt.show()\n",
    "\n",
    "# lets create time series from weather \n",
    "timeSeries = weather_bin.loc[:, [\"Date\",\"MeanTemp\"]]\n",
    "timeSeries.index = timeSeries.Date\n",
    "ts = timeSeries.drop(\"Date\",axis=1)"
   ]
  },
  {
   "cell_type": "code",
   "execution_count": null,
   "id": "93663f9a",
   "metadata": {},
   "outputs": [],
   "source": [
    "df['time'] = df['time'].astype(float) # data type 이 현재 str 이므로 int로 변환\n",
    "    \n",
    "for column in df.columns:\n",
    "    if column == 'time':\n",
    "        continue\n",
    "    #if column in ['Oil_tSwmp', 'Oil_pSwmp', 'CEngDsT_t','FuelT_t']:\n",
    "    print(column,type(column))\n",
    "    df[column] = df[column].astype(float) # data type 이 현재 str 이므로 int로 변환\n",
    "    y_col_name = column\n",
    "    x_col_name = 'time'\n",
    "    y_col = df.loc[:,[y_col_name]]\n",
    "    x_col = df.loc[:,[x_col_name]]\n",
    "    plt.figure(figsize=(20,8))\n",
    "    plt.plot(x_col, y_col)\n",
    "    plt.xlabel(x_col_name)\n",
    "    plt.ylabel(y_col_name)\n",
    "    plt.savefig('png_original/'+str(column)+'.png')\n",
    "    plt.show()\n"
   ]
  },
  {
   "cell_type": "markdown",
   "id": "e7f533e8",
   "metadata": {},
   "source": [
    "# Evaluation\n",
    "- https://www.kaggle.com/code/smeitoma/jpx-competition-metric-definition"
   ]
  },
  {
   "cell_type": "code",
   "execution_count": null,
   "id": "be64bd87",
   "metadata": {},
   "outputs": [],
   "source": [
    "# import jpx_tokyo_market_prediction\n",
    "# env = jpx_tokyo_market_prediction.make_env()   # initialize the environment\n",
    "# iter_test = env.iter_test()    # an iterator which loops over the test files\n",
    "# for (prices, options, financials, trades, secondary_prices, sample_prediction) in iter_test:\n",
    "#     sample_prediction_df['Rank'] = np.arange(len(sample_prediction))  # make your predictions here\n",
    "#     env.predict(sample_prediction_df)   # register your predictions"
   ]
  },
  {
   "cell_type": "code",
   "execution_count": null,
   "id": "09083e7c",
   "metadata": {
    "lines_to_next_cell": 0
   },
   "outputs": [],
   "source": [
    "import numpy as np\n",
    "import pandas as pd\n",
    "\n",
    "def calc_spread_return_sharpe(df: pd.DataFrame, portfolio_size: int = 200, toprank_weight_ratio: float = 2) -> float:\n",
    "    \"\"\"\n",
    "    Args:\n",
    "        df (pd.DataFrame): predicted results\n",
    "        portfolio_size (int): # of equities to buy/sell\n",
    "        toprank_weight_ratio (float): the relative weight of the most highly ranked stock compared to the least.\n",
    "    Returns:\n",
    "        (float): sharpe ratio\n",
    "    \"\"\"\n",
    "    def _calc_spread_return_per_day(df, portfolio_size, toprank_weight_ratio):\n",
    "        \"\"\"\n",
    "        Args:\n",
    "            df (pd.DataFrame): predicted results\n",
    "            portfolio_size (int): # of equities to buy/sell\n",
    "            toprank_weight_ratio (float): the relative weight of the most highly ranked stock compared to the least.\n",
    "        Returns:\n",
    "            (float): spread return\n",
    "        \"\"\"\n",
    "        assert df['Rank'].min() == 0\n",
    "        assert df['Rank'].max() == len(df['Rank']) - 1\n",
    "        weights = np.linspace(start=toprank_weight_ratio, stop=1, num=portfolio_size)\n",
    "        purchase = (df.sort_values(by='Rank')['Target'][:portfolio_size] * weights).sum() / weights.mean()\n",
    "        short = (df.sort_values(by='Rank', ascending=False)['Target'][:portfolio_size] * weights).sum() / weights.mean()\n",
    "        return purchase - short\n",
    "\n",
    "    buf = df.groupby('Date').apply(_calc_spread_return_per_day, portfolio_size, toprank_weight_ratio)\n",
    "    sharpe_ratio = buf.mean() / buf.std()\n",
    "    return sharpe_ratio"
   ]
  },
  {
   "cell_type": "code",
   "execution_count": null,
   "id": "3b7b1833",
   "metadata": {
    "lines_to_next_cell": 2
   },
   "outputs": [],
   "source": []
  }
 ],
 "metadata": {
  "jupytext": {
   "formats": "ipynb,py:light"
  },
  "kernelspec": {
   "display_name": "Python 3 (ipykernel)",
   "language": "python",
   "name": "python3"
  },
  "language_info": {
   "codemirror_mode": {
    "name": "ipython",
    "version": 3
   },
   "file_extension": ".py",
   "mimetype": "text/x-python",
   "name": "python",
   "nbconvert_exporter": "python",
   "pygments_lexer": "ipython3",
   "version": "3.8.0"
  }
 },
 "nbformat": 4,
 "nbformat_minor": 5
}
